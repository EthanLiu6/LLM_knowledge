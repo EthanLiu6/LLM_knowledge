{
 "cells": [
  {
   "cell_type": "markdown",
   "id": "dcb71067-9f6c-4a23-a13c-c7703680da7f",
   "metadata": {},
   "source": [
    "# 002—Normlization"
   ]
  },
  {
   "cell_type": "markdown",
   "id": "5175a5be-263a-4c84-baf0-3224ea47e260",
   "metadata": {},
   "source": [
    "## 1. BatchNorm"
   ]
  },
  {
   "cell_type": "code",
   "execution_count": 12,
   "id": "6f767d25-41d3-4392-855f-bb601ff83efb",
   "metadata": {},
   "outputs": [],
   "source": [
    "import torch\n",
    "import torch.nn as nn"
   ]
  },
  {
   "cell_type": "markdown",
   "id": "bae6c2f5-8cfa-4272-a6c9-9dbdf1ae782d",
   "metadata": {},
   "source": [
    "### 1.1 官网API"
   ]
  },
  {
   "cell_type": "code",
   "execution_count": 24,
   "id": "dcccb66a-e0d9-45d6-9776-9757df3dee7c",
   "metadata": {},
   "outputs": [
    {
     "name": "stdout",
     "output_type": "stream",
     "text": [
      "tensor(0.0283)\n",
      "tensor(1.0125)\n",
      "tensor(1.0063)\n"
     ]
    },
    {
     "data": {
      "text/plain": [
       "torch.Size([100])"
      ]
     },
     "execution_count": 24,
     "metadata": {},
     "output_type": "execute_result"
    }
   ],
   "source": [
    "# torch官网案例（BatchNorm1d）\n",
    "    # Examples::\n",
    "\n",
    "    #     >>> # With Learnable Parameters\n",
    "    #     >>> m = nn.BatchNorm1d(100)\n",
    "    #     >>> # Without Learnable Parameters\n",
    "    #     >>> m = nn.BatchNorm1d(100, affine=False)\n",
    "    #     >>> input = torch.randn(20, 100)\n",
    "    #     >>> output = m(input)\n",
    "\n",
    "m = nn.BatchNorm1d(100)  # num_features\n",
    "ipt = torch.randn(20, 100)\n",
    "print(ipt[:][1].mean())\n",
    "print(ipt[:][1].var())  # 1.0085*1.0085\n",
    "print(ipt[:][1].std())\n",
    "input[:][1].shape"
   ]
  },
  {
   "cell_type": "code",
   "execution_count": 25,
   "id": "bff3c3ca-0881-465d-b21a-bedb35462681",
   "metadata": {},
   "outputs": [
    {
     "name": "stdout",
     "output_type": "stream",
     "text": [
      "tensor(0.0039, grad_fn=<MeanBackward0>)\n",
      "tensor(1.0687, grad_fn=<VarBackward0>)\n",
      "tensor(1.0338, grad_fn=<StdBackward0>)\n"
     ]
    },
    {
     "data": {
      "text/plain": [
       "torch.Size([20, 100])"
      ]
     },
     "execution_count": 25,
     "metadata": {},
     "output_type": "execute_result"
    }
   ],
   "source": [
    "output = m(ipt)\n",
    "print(output[:][1].mean())\n",
    "print(output[:][1].var())  # 1.0085*1.0085\n",
    "print(output[:][1].std())\n",
    "output.shape"
   ]
  },
  {
   "cell_type": "code",
   "execution_count": 52,
   "id": "9ffd4081-e62e-4f19-bd6f-c050f767d8a4",
   "metadata": {},
   "outputs": [
    {
     "data": {
      "text/plain": [
       "tensor(4.1900)"
      ]
     },
     "execution_count": 52,
     "metadata": {},
     "output_type": "execute_result"
    }
   ],
   "source": [
    "ipt = torch.randint(-20, 30, size=(20, 100), dtype=torch.float)\n",
    "torch.mean(ipt[:][1])\n",
    "# torch.mean(ipt, dtype=torch.float)"
   ]
  },
  {
   "cell_type": "code",
   "execution_count": 53,
   "id": "98e17086-0233-4770-ac73-799b708962d4",
   "metadata": {},
   "outputs": [
    {
     "data": {
      "text/plain": [
       "(tensor(29.), tensor(-20.))"
      ]
     },
     "execution_count": 53,
     "metadata": {},
     "output_type": "execute_result"
    }
   ],
   "source": [
    "ipt.max(), ipt.min()"
   ]
  },
  {
   "cell_type": "code",
   "execution_count": 54,
   "id": "d7fb054d-a834-427b-a5ce-a8e2dd8a0d12",
   "metadata": {},
   "outputs": [],
   "source": [
    "out = m(ipt)"
   ]
  },
  {
   "cell_type": "code",
   "execution_count": 65,
   "id": "28587db3-25c7-452b-9d79-23d11d372f3b",
   "metadata": {},
   "outputs": [
    {
     "data": {
      "text/plain": [
       "(tensor(4.5300e-09, grad_fn=<MeanBackward0>),\n",
       " tensor(1.0005, grad_fn=<VarBackward0>),\n",
       " torch.Size([20, 100]))"
      ]
     },
     "execution_count": 65,
     "metadata": {},
     "output_type": "execute_result"
    }
   ],
   "source": [
    "out.mean(), out.var(), out.shape"
   ]
  },
  {
   "cell_type": "code",
   "execution_count": 73,
   "id": "46bb8a98-63a8-46b1-a6ec-c658fcce8c34",
   "metadata": {},
   "outputs": [
    {
     "name": "stdout",
     "output_type": "stream",
     "text": [
      "torch.Size([20])\n",
      "tensor(-1.1921e-08, grad_fn=<MeanBackward0>)\n",
      "tensor(1.0526, grad_fn=<VarBackward0>)\n",
      "tensor(1.0260, grad_fn=<StdBackward0>)\n",
      "\n",
      "torch.Size([100])\n",
      "tensor(-0.0420, grad_fn=<MeanBackward0>)\n",
      "tensor(1.1419, grad_fn=<VarBackward0>)\n",
      "tensor(1.0686, grad_fn=<StdBackward0>)\n",
      "\n",
      "torch.Size([20, 100])\n",
      "tensor(4.5300e-09, grad_fn=<MeanBackward0>)\n",
      "tensor(1.0005, grad_fn=<VarBackward0>)\n",
      "tensor(1.0003, grad_fn=<StdBackward0>)\n"
     ]
    }
   ],
   "source": [
    "print(out[:, 1].shape)\n",
    "print(out[:, 1].mean())\n",
    "print(out[:, 1].var())\n",
    "print(out[:, 1].std())\n",
    "print()\n",
    "print(out[1, :].shape)\n",
    "print(out[1, :].mean())\n",
    "print(out[1, :].var())\n",
    "print(out[1, :].std())\n",
    "print()\n",
    "print(out.shape)\n",
    "print(out.mean())\n",
    "print(out.var())\n",
    "print(out.std())\n"
   ]
  },
  {
   "cell_type": "markdown",
   "id": "e48b36d9-6744-43a3-ba9f-b99f95a15182",
   "metadata": {},
   "source": [
    "### 1.2 自己实现"
   ]
  },
  {
   "cell_type": "code",
   "execution_count": 125,
   "id": "cf4d22fa-8414-4745-8852-5b6a38041e76",
   "metadata": {},
   "outputs": [],
   "source": [
    "class BatchNorm(nn.Module):\n",
    "    def __init__(self, num_features, eps=1e-5, momentum=0.1):\n",
    "        super(BatchNorm, self).__init__()\n",
    "        self.num_features = num_features\n",
    "        self.eps = eps\n",
    "\n",
    "        self.gamma = nn.Parameter(torch.ones(num_features))  # 这俩是可学习参数\n",
    "        self.beta = nn.Parameter(torch.zeros(num_features))\n",
    "        self.momentum = momentum\n",
    "\n",
    "        # 这里简化写法，不使用buffer注册\n",
    "        self.running_mean = torch.ones(num_features)\n",
    "        self.running_var = torch.zeros(num_features)  \n",
    "\n",
    "    def forward(self, x, training=True):\n",
    "        if training:\n",
    "            batch_mean = x.mean(dim=0)\n",
    "            batch_var = x.var(dim=0, unbiased=False) # 计算时候无偏，存储时候有偏\n",
    "            print(\"batch_mean shape, batch_var shape:\", batch_mean.shape, batch_var.shape)\n",
    "            self.running_mean = (1 - self.momentum) * self.running_mean + self.momentum * batch_mean\n",
    "            self.running_var = (1 - self.momentum) * self.running_var + self.momentum * batch_var\n",
    "            print(\"self.running_mean, self.running_var:\", self.running_mean, self.running_var)\n",
    "\n",
    "        else:\n",
    "            batch_mean, batch_var = self.running_mean, self.running_var\n",
    "\n",
    "        return self.gamma * (x - batch_mean) / (torch.sqrt(batch_var + self.eps)) + self.beta\n",
    "\n",
    "        "
   ]
  },
  {
   "cell_type": "code",
   "execution_count": 128,
   "id": "f063d871-ed2e-4bcc-b5a3-d774c12f9239",
   "metadata": {},
   "outputs": [
    {
     "name": "stdout",
     "output_type": "stream",
     "text": [
      "torch.Size([10])\n",
      "batch_mean shape, batch_var shape: torch.Size([10]) torch.Size([10])\n",
      "self.running_mean, self.running_var: tensor([0.8057, 0.8289, 0.9631, 0.9466, 0.8408, 0.8254, 0.9118, 0.7609, 0.8584,\n",
      "        0.9538]) tensor([1.7758e-02, 2.3158e-02, 4.2861e-03, 2.0917e-01, 2.3926e-02, 2.9425e-04,\n",
      "        5.5038e-01, 9.3083e-02, 1.7920e-04, 2.1863e-04])\n",
      "tensor([[ 1.0000, -1.0000, -1.0000, -1.0000,  1.0000,  0.9998, -1.0000, -1.0000,\n",
      "         -0.9998, -0.9998],\n",
      "        [-1.0000,  1.0000,  1.0000,  1.0000, -1.0000, -0.9998,  1.0000,  1.0000,\n",
      "          0.9998,  0.9998]], grad_fn=<AddBackward0>)\n",
      "tensor(-1.0000, grad_fn=<MinBackward1>) tensor(1.0000, grad_fn=<MaxBackward1>)\n"
     ]
    }
   ],
   "source": [
    "if __name__ == '__main__':\n",
    "    batch_norm = BatchNorm(10)\n",
    "    ipt = torch.randn(size=(2, 10))\n",
    "    print(ipt[1].shape)\n",
    "    res = batch_norm(ipt)\n",
    "    print(res)\n",
    "    print(res.min(), res.max())"
   ]
  },
  {
   "cell_type": "code",
   "execution_count": 129,
   "id": "c7d1d662-07f7-4cbb-bb5a-c46ab789996b",
   "metadata": {},
   "outputs": [
    {
     "name": "stdout",
     "output_type": "stream",
     "text": [
      "batch_mean shape, batch_var shape: torch.Size([10]) torch.Size([10])\n",
      "self.running_mean, self.running_var: tensor([0.6308, 0.6748, 0.9299, 0.8986, 0.6976, 0.6684, 0.8324, 0.5457, 0.7310,\n",
      "        0.9121]) tensor([3.3740e-02, 4.4000e-02, 8.1436e-03, 3.9743e-01, 4.5460e-02, 5.5908e-04,\n",
      "        1.0457e+00, 1.7686e-01, 3.4049e-04, 4.1541e-04])\n",
      "tensor([[ 1.0000, -1.0000, -1.0000, -1.0000,  1.0000,  0.9998, -1.0000, -1.0000,\n",
      "         -0.9998, -0.9998],\n",
      "        [-1.0000,  1.0000,  1.0000,  1.0000, -1.0000, -0.9998,  1.0000,  1.0000,\n",
      "          0.9998,  0.9998]], grad_fn=<AddBackward0>)\n"
     ]
    },
    {
     "data": {
      "text/plain": [
       "(tensor(-1.0000, grad_fn=<MinBackward1>),\n",
       " tensor(1.0000, grad_fn=<MaxBackward1>))"
      ]
     },
     "execution_count": 129,
     "metadata": {},
     "output_type": "execute_result"
    }
   ],
   "source": [
    "res = batch_norm(ipt)\n",
    "print(res)\n",
    "res.min(), res.max()"
   ]
  },
  {
   "cell_type": "code",
   "execution_count": null,
   "id": "3859ceb5-7154-4571-86e7-65a6702ffb9f",
   "metadata": {},
   "outputs": [],
   "source": []
  },
  {
   "cell_type": "markdown",
   "id": "00872ad3-cf49-4775-bb01-af629a31d285",
   "metadata": {},
   "source": [
    "## 2. LayerNorm"
   ]
  },
  {
   "cell_type": "markdown",
   "id": "c662cbe8-b252-4e8f-99d9-5ce5a863e64f",
   "metadata": {},
   "source": [
    "### 2.1 官网API"
   ]
  },
  {
   "cell_type": "code",
   "execution_count": null,
   "id": "8e7504aa-6dae-4aea-8b16-cbefbb023d93",
   "metadata": {},
   "outputs": [],
   "source": [
    "# Examples::\n",
    "\n",
    "#     >>> # NLP Example\n",
    "#     >>> batch, sentence_length, embedding_dim = 20, 5, 10\n",
    "#     >>> embedding = torch.randn(batch, sentence_length, embedding_dim)\n",
    "#     >>> layer_norm = nn.LayerNorm(embedding_dim)\n",
    "#     >>> # Activate module\n",
    "#     >>> layer_norm(embedding)\n",
    "#     >>>\n",
    "#     >>> # Image Example\n",
    "#     >>> N, C, H, W = 20, 5, 10, 10\n",
    "#     >>> input = torch.randn(N, C, H, W)\n",
    "#     >>> # Normalize over the last three dimensions (i.e. the channel and spatial dimensions)\n",
    "#     >>> # as shown in the image below\n",
    "#     >>> layer_norm = nn.LayerNorm([C, H, W])\n",
    "#     >>> output = layer_norm(input)\n"
   ]
  },
  {
   "cell_type": "code",
   "execution_count": 137,
   "id": "ee466293-7910-4c40-81e2-3cbfed81df37",
   "metadata": {},
   "outputs": [
    {
     "data": {
      "text/plain": [
       "LayerNorm((10,), eps=1e-05, elementwise_affine=True)"
      ]
     },
     "execution_count": 137,
     "metadata": {},
     "output_type": "execute_result"
    }
   ],
   "source": [
    "from torch.nn import LayerNorm\n",
    "batch_size, seq_length, embedding_dim = 2, 5, 10\n",
    "embedding = torch.randn(batch_size, seq_length, embedding_dim)\n",
    "layer_norm = nn.LayerNorm(embedding_dim)\n",
    "layer_norm"
   ]
  },
  {
   "cell_type": "code",
   "execution_count": 138,
   "id": "847ba08c-6760-455d-b63a-2b63b8d079dd",
   "metadata": {},
   "outputs": [
    {
     "data": {
      "text/plain": [
       "torch.Size([2, 5, 10])"
      ]
     },
     "execution_count": 138,
     "metadata": {},
     "output_type": "execute_result"
    }
   ],
   "source": [
    "layer_norm(embedding).shape"
   ]
  },
  {
   "cell_type": "markdown",
   "id": "943968b6-7b02-4787-b07c-d30ab540ac04",
   "metadata": {},
   "source": [
    "### 2.2 自己实现"
   ]
  },
  {
   "cell_type": "code",
   "execution_count": 152,
   "id": "18ce19a2-3e04-40a8-a316-afcdf28f3080",
   "metadata": {},
   "outputs": [],
   "source": [
    "# 这里我只实现NLP的样式\n",
    "class LayerNormImpl(nn.Module):\n",
    "    def __init__(self, normalized_shape: tuple, eps=1e-5):\n",
    "        super().__init__()\n",
    "        self.eps = eps\n",
    "\n",
    "        self.gamma = nn.Parameter(torch.ones(normalized_shape))\n",
    "        self.beta = nn.Parameter(torch.zeros(normalized_shape))\n",
    "\n",
    "    def forward(self, x):  # [batch_szie, seq_len, embedding_dim]\n",
    "        emb_mean = x.mean(dim=-1, keepdim=True)\n",
    "        emb_var = x.var(dim=-1, keepdim=True, unbiased=False)\n",
    "\n",
    "        norm_x = (x - emb_mean) / (torch.sqrt(emb_var + self.eps))\n",
    "\n",
    "        return self.gamma * norm_x + self.beta\n",
    "        \n",
    "        "
   ]
  },
  {
   "cell_type": "code",
   "execution_count": 153,
   "id": "c744fe22-d656-45f9-af57-434381a64f24",
   "metadata": {},
   "outputs": [],
   "source": [
    "batch_size, seq_length, embedding_dim = 2, 5, 10\n",
    "embedding_size = [batch_size, seq_length, embedding_dim]\n",
    "ipt = torch.randn(batch_size, seq_length, embedding_dim)\n",
    "layer_norm = LayerNormImpl(embedding_size)\n"
   ]
  },
  {
   "cell_type": "code",
   "execution_count": 154,
   "id": "4ac5f6d8-ec72-48da-97be-94c215c048c9",
   "metadata": {},
   "outputs": [
    {
     "data": {
      "text/plain": [
       "torch.Size([2, 5, 10])"
      ]
     },
     "execution_count": 154,
     "metadata": {},
     "output_type": "execute_result"
    }
   ],
   "source": [
    "layer_norm(ipt).shape"
   ]
  },
  {
   "cell_type": "code",
   "execution_count": 155,
   "id": "7ccbb999-4329-4fdc-8569-0c0263781cff",
   "metadata": {},
   "outputs": [
    {
     "data": {
      "text/plain": [
       "(tensor(2.1258, grad_fn=<MaxBackward1>),\n",
       " tensor(-2.0262, grad_fn=<MinBackward1>))"
      ]
     },
     "execution_count": 155,
     "metadata": {},
     "output_type": "execute_result"
    }
   ],
   "source": [
    "layer_norm(ipt).max(), layer_norm(ipt).min()"
   ]
  },
  {
   "cell_type": "code",
   "execution_count": 167,
   "id": "c85efb86-295c-447a-9926-bba7e6e91949",
   "metadata": {},
   "outputs": [],
   "source": [
    "out = layer_norm(ipt)"
   ]
  },
  {
   "cell_type": "code",
   "execution_count": 183,
   "id": "34752029-c5fa-44b2-b7f5-48fddcca8b36",
   "metadata": {},
   "outputs": [
    {
     "data": {
      "text/plain": [
       "torch.return_types.max(\n",
       "values=tensor([2.1258, 1.6825, 1.4037, 1.3946, 1.7632], grad_fn=<MaxBackward0>),\n",
       "indices=tensor([2, 6, 7, 2, 1]))"
      ]
     },
     "execution_count": 183,
     "metadata": {},
     "output_type": "execute_result"
    }
   ],
   "source": [
    "out[1, :].max(dim=-1)"
   ]
  },
  {
   "cell_type": "code",
   "execution_count": 184,
   "id": "2d112edf-8162-4f65-a61a-012ca9d37f3f",
   "metadata": {},
   "outputs": [
    {
     "data": {
      "text/plain": [
       "torch.return_types.min(\n",
       "values=tensor([-1.6328, -1.3399, -1.6296, -1.8342, -1.1033], grad_fn=<MinBackward0>),\n",
       "indices=tensor([3, 0, 3, 7, 9]))"
      ]
     },
     "execution_count": 184,
     "metadata": {},
     "output_type": "execute_result"
    }
   ],
   "source": [
    "out[1, :].min(dim=-1)"
   ]
  },
  {
   "cell_type": "code",
   "execution_count": null,
   "id": "7f43bee8-9300-4d56-95ce-9f018a56b6f4",
   "metadata": {},
   "outputs": [],
   "source": []
  },
  {
   "cell_type": "markdown",
   "id": "10612433-fb6f-47ac-96a6-6f21af55b0a1",
   "metadata": {},
   "source": [
    "## 3. GroupNorm"
   ]
  },
  {
   "cell_type": "code",
   "execution_count": 185,
   "id": "aefe1ffb-7ecf-4f5a-9fed-1b552c84831b",
   "metadata": {},
   "outputs": [],
   "source": [
    "# 对Batch Nrom的改动，对channl维度进行分组\n",
    "pass"
   ]
  },
  {
   "cell_type": "markdown",
   "id": "d3416b2d-3f9d-4068-9f04-8b97c2e6aff0",
   "metadata": {},
   "source": [
    "## 4. RMSNorm"
   ]
  },
  {
   "cell_type": "markdown",
   "id": "33aa45c4-a209-493b-83e6-7289fd96295a",
   "metadata": {},
   "source": [
    "### 4.1 官网API"
   ]
  },
  {
   "cell_type": "code",
   "execution_count": null,
   "id": "57321e8f-62cf-4e35-b8ac-3ffe564a50a1",
   "metadata": {},
   "outputs": [],
   "source": [
    "# Examples::\n",
    "\n",
    "#     >>> rms_norm = nn.RMSNorm([2, 3])\n",
    "#     >>> input = torch.randn(2, 2, 3)\n",
    "#     >>> rms_norm(input)"
   ]
  },
  {
   "cell_type": "code",
   "execution_count": 187,
   "id": "fb558cfa-c5f9-49f4-b611-13e7c940eec1",
   "metadata": {},
   "outputs": [
    {
     "data": {
      "text/plain": [
       "tensor([[[ 0.1696, -0.8762, -1.3864],\n",
       "         [ 0.0203, -1.7726,  0.3728]],\n",
       "\n",
       "        [[ 1.2740,  0.2570,  0.3388],\n",
       "         [ 1.0890,  0.5280,  1.6527]]], grad_fn=<MulBackward0>)"
      ]
     },
     "execution_count": 187,
     "metadata": {},
     "output_type": "execute_result"
    }
   ],
   "source": [
    "rms_norm = nn.RMSNorm([2, 3])\n",
    "ipt = torch.randn(2, 2, 3)\n",
    "rms_norm(ipt)"
   ]
  },
  {
   "cell_type": "markdown",
   "id": "0762d984-c20e-4893-b587-88ffc6f59e78",
   "metadata": {},
   "source": [
    "### 4.2 自己实现"
   ]
  },
  {
   "cell_type": "code",
   "execution_count": 237,
   "id": "02cb22e8-02e5-45b5-ba46-8290c577d2b4",
   "metadata": {},
   "outputs": [],
   "source": [
    "# 对Layer Norm的优化，采用均方根，并假设重新计算的中心化无关（去掉平移）\n",
    "class RMSNorm(nn.Module):\n",
    "    def __init__(self, normlized_shape: tuple, eps=1e-5):\n",
    "        super().__init__()\n",
    "        self.normlized_shape = normlized_shape\n",
    "        self.eps = eps\n",
    "\n",
    "        self.gamma = nn.Parameter(torch.ones(normlized_shape))\n",
    "\n",
    "    def forward(self, x):\n",
    "        # print(tuple(x.shape) == self.normlized_shape)\n",
    "        assert tuple(x.shape) == self.normlized_shape, \"归一化形状与输入形状不一致\"\n",
    "\n",
    "        rms = torch.sqrt(x.pow(2).mean(dim=-1, keepdim=True) + self.eps)\n",
    "        \n",
    "        return self.gamma *  x / rms \n",
    "       "
   ]
  },
  {
   "cell_type": "code",
   "execution_count": 238,
   "id": "a871a3fd-f2f8-4f52-abda-3349a0086d5c",
   "metadata": {},
   "outputs": [],
   "source": [
    "batch_size, seq_length, embedding_dim = 2, 5, 10\n",
    "embedding_size = (batch_size, seq_length, embedding_dim)\n",
    "ipt = torch.randn(embedding_size)\n",
    "rms_norm = RMSNorm(embedding_size)"
   ]
  },
  {
   "cell_type": "code",
   "execution_count": 239,
   "id": "c12703c8-1351-4b21-afb6-310b9d3dc898",
   "metadata": {},
   "outputs": [
    {
     "name": "stdout",
     "output_type": "stream",
     "text": [
      "torch.Size([2, 5, 10])\n",
      "tensor(2.2343, grad_fn=<MaxBackward1>) tensor(-2.0097, grad_fn=<MinBackward1>)\n"
     ]
    }
   ],
   "source": [
    "out = rms_norm(ipt)\n",
    "print(out.shape)\n",
    "print(out.max(), out.min())"
   ]
  },
  {
   "cell_type": "code",
   "execution_count": 240,
   "id": "e982b1a8-26b9-4c30-bcc1-96fcd06ebec3",
   "metadata": {},
   "outputs": [
    {
     "name": "stdout",
     "output_type": "stream",
     "text": [
      "\n"
     ]
    },
    {
     "data": {
      "text/plain": [
       "(torch.return_types.max(\n",
       " values=tensor([[2.1517, 1.5508, 1.2936, 0.9373, 1.0745],\n",
       "         [1.7776, 1.9607, 2.0123, 1.8904, 2.2343]], grad_fn=<MaxBackward0>),\n",
       " indices=tensor([[3, 5, 3, 4, 9],\n",
       "         [3, 4, 4, 9, 1]])),\n",
       " None,\n",
       " torch.return_types.min(\n",
       " values=tensor([[-1.2241, -1.6148, -1.8941, -2.0097, -1.9332],\n",
       "         [-1.3606, -1.1657, -0.9142, -1.4892, -1.0552]], grad_fn=<MinBackward0>),\n",
       " indices=tensor([[8, 6, 1, 8, 5],\n",
       "         [1, 6, 1, 4, 8]])))"
      ]
     },
     "execution_count": 240,
     "metadata": {},
     "output_type": "execute_result"
    }
   ],
   "source": [
    "out.max(dim=-1), print(), out.min(dim=-1)"
   ]
  },
  {
   "cell_type": "code",
   "execution_count": 241,
   "id": "97df7a3c-bb6c-4dc5-a653-e010b5134f29",
   "metadata": {},
   "outputs": [
    {
     "data": {
      "text/plain": [
       "(tensor([[ 0.1349, -0.0799,  0.0191, -0.1794, -0.6099],\n",
       "         [ 0.1504,  0.0668,  0.4763,  0.2718,  0.2192]],\n",
       "        grad_fn=<MeanBackward1>),\n",
       " tensor([[1.0909, 1.1040, 1.1107, 1.0753, 0.6978],\n",
       "         [1.0859, 1.1061, 0.8590, 1.0290, 1.0577]], grad_fn=<VarBackward0>))"
      ]
     },
     "execution_count": 241,
     "metadata": {},
     "output_type": "execute_result"
    }
   ],
   "source": [
    "out.mean(dim=-1), out.var(dim=-1)"
   ]
  },
  {
   "cell_type": "markdown",
   "id": "f2554ac0-107f-4257-978e-8f5b786ad61c",
   "metadata": {},
   "source": [
    "## 5. DyT"
   ]
  },
  {
   "cell_type": "code",
   "execution_count": 242,
   "id": "82742afe-6c67-480e-b1b8-fd17f53eef03",
   "metadata": {},
   "outputs": [],
   "source": [
    "# 官网暂时还没有该部分代码（2025-05）"
   ]
  },
  {
   "cell_type": "code",
   "execution_count": 254,
   "id": "b1a3be1d-76be-4ec1-8aac-d9705268a3b0",
   "metadata": {},
   "outputs": [],
   "source": [
    "from torch.nn.functional import tanh\n",
    "\n",
    "class DyT(nn.Module):\n",
    "    def __init__(self, normlizated_shape: tuple, init_alpha=0.5):\n",
    "        super().__init__()\n",
    "        self.normlizated_shape = normlizated_shape\n",
    "        self.alpha = nn.Parameter(torch.ones(1) * init_alpha)\n",
    "        self.gamma = nn.Parameter(torch.ones(normlizated_shape))\n",
    "        self.beta = nn.Parameter(torch.zeros(normlizated_shape))\n",
    "\n",
    "    def forward(self, x):\n",
    "        assert tuple(x.shape) == self.normlizated_shape, \"输入形状与归一化形状不匹配\"\n",
    "        x = tanh(self.alpha * x)\n",
    "        return self.gamma * x + self.beta "
   ]
  },
  {
   "cell_type": "code",
   "execution_count": 255,
   "id": "80abebde-cd7e-4316-bb12-49217ec1dc4b",
   "metadata": {},
   "outputs": [],
   "source": [
    "batch_size, seq_length, embedding_dim = 2, 5, 10\n",
    "embedding_size = (batch_size, seq_length, embedding_dim)\n",
    "ipt = torch.randn(embedding_size)\n",
    "dyt = DyT(embedding_size)"
   ]
  },
  {
   "cell_type": "code",
   "execution_count": 275,
   "id": "f7028519-0cff-434a-b55d-8daefb3414f2",
   "metadata": {},
   "outputs": [
    {
     "data": {
      "text/plain": [
       "torch.Size([2, 5, 10])"
      ]
     },
     "execution_count": 275,
     "metadata": {},
     "output_type": "execute_result"
    }
   ],
   "source": [
    "res = dyt(ipt)\n",
    "res.shape"
   ]
  },
  {
   "cell_type": "code",
   "execution_count": 276,
   "id": "f1cda774-e536-474e-85ec-67d489754354",
   "metadata": {},
   "outputs": [
    {
     "data": {
      "text/plain": [
       "(torch.return_types.max(\n",
       " values=tensor([[0.8203, 0.7529, 0.8622, 0.4247, 0.4482],\n",
       "         [0.8624, 0.5836, 0.5179, 0.5633, 0.5837]], grad_fn=<MaxBackward0>),\n",
       " indices=tensor([[4, 8, 5, 0, 2],\n",
       "         [0, 3, 7, 8, 8]])),\n",
       " torch.return_types.min(\n",
       " values=tensor([[-0.7481, -0.6718, -0.7155, -0.3006, -0.4286],\n",
       "         [-0.5702, -0.3776, -0.7690, -0.6800, -0.7936]], grad_fn=<MinBackward0>),\n",
       " indices=tensor([[0, 3, 3, 6, 6],\n",
       "         [9, 9, 5, 6, 1]])))"
      ]
     },
     "execution_count": 276,
     "metadata": {},
     "output_type": "execute_result"
    }
   ],
   "source": [
    "res.max(dim=-1), res.min(dim=-1)"
   ]
  },
  {
   "cell_type": "code",
   "execution_count": 277,
   "id": "df6a3eec-87a1-40a0-8615-d3be2b130080",
   "metadata": {},
   "outputs": [
    {
     "data": {
      "text/plain": [
       "(tensor([[ 0.1602,  0.2414,  0.0184,  0.0084, -0.0264],\n",
       "         [ 0.0599,  0.1107, -0.0758, -0.0020, -0.0995]],\n",
       "        grad_fn=<MeanBackward1>),\n",
       " tensor([[0.2148, 0.1875, 0.2123, 0.0839, 0.1110],\n",
       "         [0.2266, 0.0925, 0.1626, 0.1417, 0.2744]], grad_fn=<VarBackward0>))"
      ]
     },
     "execution_count": 277,
     "metadata": {},
     "output_type": "execute_result"
    }
   ],
   "source": [
    "res.mean(dim=-1), res.var(dim=-1)"
   ]
  },
  {
   "cell_type": "code",
   "execution_count": 278,
   "id": "6618c70e-a4b3-4891-b49f-e08c03fdc8f1",
   "metadata": {},
   "outputs": [],
   "source": [
    "import matplotlib.pyplot as plt\n",
    "import numpy as np"
   ]
  },
  {
   "cell_type": "code",
   "execution_count": 279,
   "id": "110aa493-d8a5-4fe7-8f70-9633f015a6a1",
   "metadata": {},
   "outputs": [
    {
     "data": {
      "text/plain": [
       "torch.Size([100])"
      ]
     },
     "execution_count": 279,
     "metadata": {},
     "output_type": "execute_result"
    }
   ],
   "source": [
    "res = res.reshape(-1, )\n",
    "res.shape"
   ]
  },
  {
   "cell_type": "code",
   "execution_count": 281,
   "id": "05df1f58-b0fe-43d3-89ba-34ee5fdb9d04",
   "metadata": {},
   "outputs": [
    {
     "data": {
      "text/plain": [
       "array([-0.79356986, -0.7689823 , -0.74814284, -0.7475678 , -0.71650153,\n",
       "       -0.7154637 , -0.6799526 , -0.67183614, -0.65581584, -0.5702313 ,\n",
       "       -0.48244542, -0.47687936, -0.4451822 , -0.42861864, -0.3839705 ,\n",
       "       -0.3787838 , -0.37755352, -0.37554508, -0.34520176, -0.3006487 ,\n",
       "       -0.29858166, -0.27985305, -0.25514433, -0.24762094, -0.24531674,\n",
       "       -0.23665027, -0.23307872, -0.23291336, -0.23241825, -0.20922378,\n",
       "       -0.199445  , -0.18063533, -0.17918357, -0.14061967, -0.11379912,\n",
       "       -0.08196156, -0.08108743, -0.07945291, -0.07529972, -0.03915898,\n",
       "       -0.03047188, -0.02075537,  0.00135301,  0.0137195 ,  0.01712114,\n",
       "        0.04349285,  0.05948048,  0.06080786,  0.06664807,  0.07018054,\n",
       "        0.09192327,  0.10553732,  0.10567111,  0.1080163 ,  0.1083034 ,\n",
       "        0.10952533,  0.11364294,  0.12288477,  0.14704394,  0.15046829,\n",
       "        0.15655723,  0.17734955,  0.19497323,  0.20756477,  0.21143068,\n",
       "        0.21245368,  0.2140043 ,  0.22466962,  0.23171824,  0.24481483,\n",
       "        0.24527861,  0.2467957 ,  0.25939643,  0.26782843,  0.34824783,\n",
       "        0.3818263 ,  0.39027205,  0.39424312,  0.39604735,  0.42385435,\n",
       "        0.42472905,  0.42865655,  0.43536136,  0.4482474 ,  0.45286572,\n",
       "        0.47129172,  0.51791114,  0.54819036,  0.54981893,  0.56031775,\n",
       "        0.5632986 ,  0.58315396,  0.58364207,  0.58373696,  0.6326456 ,\n",
       "        0.70145947,  0.7528702 ,  0.8203449 ,  0.86224926,  0.8623811 ],\n",
       "      dtype=float32)"
      ]
     },
     "execution_count": 281,
     "metadata": {},
     "output_type": "execute_result"
    }
   ],
   "source": [
    "res_np = res.detach().numpy()\n",
    "res_np.sort()\n",
    "res_np"
   ]
  },
  {
   "cell_type": "code",
   "execution_count": 302,
   "id": "6ea622d8-be96-4170-9764-6b3048d368bb",
   "metadata": {},
   "outputs": [
    {
     "data": {
      "image/png": "[encoded data removed]",
      "text/plain": [
       "<Figure size 640x480 with 1 Axes>"
      ]
     },
     "metadata": {},
     "output_type": "display_data"
    }
   ],
   "source": [
    "x = np.arange(100)\n",
    "plt.scatter(x, res_np, color='orange', marker='.', linewidths=0.5)\n",
    "plt.show()"
   ]
  },
  {
   "cell_type": "code",
   "execution_count": 308,
   "id": "9f2ae216-49e3-4ebd-8eb1-893d09b400a6",
   "metadata": {},
   "outputs": [
    {
     "data": {
      "image/png": "[encoded data removed]",
      "text/plain": [
       "<Figure size 640x480 with 1 Axes>"
      ]
     },
     "metadata": {},
     "output_type": "display_data"
    }
   ],
   "source": [
    "out = out.reshape(-1, )\n",
    "out_np = out.detach().numpy()\n",
    "out_np.sort()\n",
    "x = np.arange(100)\n",
    "plt.scatter(x, out_np, color='orange', marker='.', linewidths=0.5)\n",
    "plt.show()"
   ]
  },
  {
   "cell_type": "markdown",
   "id": "985684cd-19eb-4b6e-a187-36269c28851d",
   "metadata": {},
   "source": [
    "## 6. Post-Norm & Pre-Norm"
   ]
  },
  {
   "cell_type": "code",
   "execution_count": null,
   "id": "3cea3d8a-3db2-4c3b-8df2-8be5eca877a3",
   "metadata": {},
   "outputs": [],
   "source": []
  }
 ],
 "metadata": {
  "kernelspec": {
   "display_name": "p12nlp",
   "language": "python",
   "name": "p12nlp"
  },
  "language_info": {
   "codemirror_mode": {
    "name": "ipython",
    "version": 3
   },
   "file_extension": ".py",
   "mimetype": "text/x-python",
   "name": "python",
   "nbconvert_exporter": "python",
   "pygments_lexer": "ipython3",
   "version": "3.12.9"
  }
 },
 "nbformat": 4,
 "nbformat_minor": 5
}
